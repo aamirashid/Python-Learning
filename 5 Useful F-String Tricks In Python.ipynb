{
 "cells": [
  {
   "cell_type": "code",
   "execution_count": 17,
   "id": "2e31c468",
   "metadata": {},
   "outputs": [
    {
     "name": "stdout",
     "output_type": "stream",
     "text": [
      "1000000000\n"
     ]
    }
   ],
   "source": [
    "#Thousands separator\n",
    "n: int = 1_000_000_000\n",
    "print(n)"
   ]
  },
  {
   "cell_type": "code",
   "execution_count": 18,
   "id": "8e1f8efe",
   "metadata": {},
   "outputs": [
    {
     "name": "stdout",
     "output_type": "stream",
     "text": [
      "(1, 0, 0, 0)\n"
     ]
    }
   ],
   "source": [
    "n: int = 1,000,000,000\n",
    "print(n)"
   ]
  },
  {
   "cell_type": "code",
   "execution_count": 19,
   "id": "d71a0a44",
   "metadata": {},
   "outputs": [
    {
     "name": "stdout",
     "output_type": "stream",
     "text": [
      "1000000000.0\n"
     ]
    }
   ],
   "source": [
    "#Scientific Notation\n",
    "f: float = 1e9\n",
    "print(f)"
   ]
  },
  {
   "cell_type": "code",
   "execution_count": 20,
   "id": "0402866a",
   "metadata": {},
   "outputs": [
    {
     "name": "stdout",
     "output_type": "stream",
     "text": [
      "1,000,000,000\n",
      "1_000_000_000\n"
     ]
    }
   ],
   "source": [
    "n = 1000000000\n",
    "print(f'{n:,}')\n",
    "print(f'{n:_}')\n",
    "#We can only use _ or , as thousands separator. If you want to use another separator, you will have to define your own functionality\n"
   ]
  },
  {
   "cell_type": "code",
   "execution_count": 28,
   "id": "dcc3e4d0",
   "metadata": {},
   "outputs": [
    {
     "name": "stdout",
     "output_type": "stream",
     "text": [
      "                  PU\n",
      "PU                  \n",
      "PU                  \n",
      "         PU         \n"
     ]
    }
   ],
   "source": [
    "#Alignment\n",
    "var: str = 'PU'\n",
    "print(f'{var:>20}')\n",
    "print(f'{var:<20}')\n",
    "print(f'{var:20}') #Default\n",
    "print(f'{var:^20}')\n",
    "    "
   ]
  },
  {
   "cell_type": "code",
   "execution_count": 29,
   "id": "1cf59cab",
   "metadata": {},
   "outputs": [
    {
     "name": "stdout",
     "output_type": "stream",
     "text": [
      "__________________PU\n",
      "PU__________________\n",
      "PU                  \n",
      "_________PU_________\n"
     ]
    }
   ],
   "source": [
    "#Alignment and fill spaces\n",
    "var: str = 'PU'\n",
    "print(f'{var:_>20}')\n",
    "print(f'{var:_<20}')\n",
    "print(f'{var:20}') #Default\n",
    "print(f'{var:_^20}')"
   ]
  },
  {
   "cell_type": "code",
   "execution_count": 23,
   "id": "5c26b84e",
   "metadata": {},
   "outputs": [
    {
     "name": "stdout",
     "output_type": "stream",
     "text": [
      "2024-10-13 23:03:21.123821\n",
      "13.10.24\n",
      "13.10.24 (23:03:21)\n",
      "Sun Oct 13 23:03:21 2024\n",
      "11PM\n"
     ]
    }
   ],
   "source": [
    "#Date formatting - Datetime format specifiers (google it)\n",
    "from datetime import datetime\n",
    "now: datetime = datetime.now()\n",
    "print(f'{now}')\n",
    "print(f'{now:%d.%m.%y}')\n",
    "print(f'{now:%d.%m.%y (%H:%M:%S)}')\n",
    "print(f'{now:%c}') #local format\n",
    "print(f'{now:%I%p}')\n"
   ]
  },
  {
   "cell_type": "code",
   "execution_count": 24,
   "id": "451da80a",
   "metadata": {},
   "outputs": [
    {
     "name": "stdout",
     "output_type": "stream",
     "text": [
      "1234.5678\n",
      "1234.57\n",
      "1234.567800\n",
      "1235\n",
      "1,234.568\n"
     ]
    }
   ],
   "source": [
    "n: float = 1234.5678\n",
    "print(n)\n",
    "print(round(n,2))\n",
    "print(f'{n:2f}')\n",
    "print(f'{n:.0f}')\n",
    "print(f'{n:,.3f}') #Thousands separator"
   ]
  },
  {
   "cell_type": "code",
   "execution_count": 25,
   "id": "54d99f77",
   "metadata": {},
   "outputs": [
    {
     "name": "stdout",
     "output_type": "stream",
     "text": [
      "a + b = 15\n",
      "a + b = 15\n"
     ]
    }
   ],
   "source": [
    "#Magic of equal (=) sign\n",
    "a: int = 5\n",
    "b: int = 10\n",
    "myvar: str = 'Hi'\n",
    "    \n",
    "print(f'a + b = {a + b}')\n",
    "\n",
    "print(f'{a + b = }') #Anything in front of equal sign will maintain its form\n"
   ]
  },
  {
   "cell_type": "code",
   "execution_count": 26,
   "id": "f937a6d3",
   "metadata": {},
   "outputs": [
    {
     "name": "stdout",
     "output_type": "stream",
     "text": [
      "bool(a)\n",
      "bool(a) = \n",
      "bool(a) = True\n"
     ]
    }
   ],
   "source": [
    "print(f'bool(a)')\n",
    "print(f'bool(a) = ')\n",
    "print(f'{bool(a) = }')"
   ]
  },
  {
   "cell_type": "code",
   "execution_count": 27,
   "id": "ddc86ff0",
   "metadata": {},
   "outputs": [
    {
     "name": "stdout",
     "output_type": "stream",
     "text": [
      " myvar = 'Hi'\n"
     ]
    }
   ],
   "source": [
    "print(f'{ myvar = }')"
   ]
  },
  {
   "cell_type": "code",
   "execution_count": null,
   "id": "48e42d17",
   "metadata": {},
   "outputs": [],
   "source": []
  }
 ],
 "metadata": {
  "kernelspec": {
   "display_name": "Python 3",
   "language": "python",
   "name": "python3"
  },
  "language_info": {
   "codemirror_mode": {
    "name": "ipython",
    "version": 3
   },
   "file_extension": ".py",
   "mimetype": "text/x-python",
   "name": "python",
   "nbconvert_exporter": "python",
   "pygments_lexer": "ipython3",
   "version": "3.12.4"
  }
 },
 "nbformat": 4,
 "nbformat_minor": 5
}
